{
  "nbformat": 4,
  "nbformat_minor": 0,
  "metadata": {
    "colab": {
      "provenance": [],
      "include_colab_link": true
    },
    "kernelspec": {
      "name": "python3",
      "display_name": "Python 3"
    }
  },
  "cells": [
    {
      "cell_type": "markdown",
      "metadata": {
        "id": "view-in-github",
        "colab_type": "text"
      },
      "source": [
        "<a href=\"https://colab.research.google.com/github/datalou/Data-Science/blob/master/Regresion_lineal_simple_com_scikit_learn_division_de_los_datos.ipynb\" target=\"_parent\"><img src=\"https://colab.research.google.com/assets/colab-badge.svg\" alt=\"Open In Colab\"/></a>"
      ]
    },
    {
      "cell_type": "code",
      "metadata": {
        "id": "mixEVka0lkic"
      },
      "source": [
        "import pandas as pd\n",
        "import matplotlib.pyplot as plt\n",
        "from sklearn.model_selection import train_test_split\n",
        "from sklearn.linear_model import LinearRegression"
      ],
      "execution_count": 11,
      "outputs": []
    },
    {
      "cell_type": "code",
      "metadata": {
        "id": "3XXwwA8eo7gQ"
      },
      "source": [
        "dataset = pd.read_csv('https://drive.google.com/file/d/1gYTNLB_xx3mfdfievHiiK8xYaXwejsfq/view?usp=share_link')"
      ],
      "execution_count": 13,
      "outputs": []
    },
    {
      "cell_type": "code",
      "metadata": {
        "id": "dgm_dZTJpPxk",
        "colab": {
          "base_uri": "https://localhost:8080/"
        },
        "outputId": "0137f3ad-9051-4137-cebd-a77e40cc63a8"
      },
      "source": [
        "dataset.shape"
      ],
      "execution_count": 14,
      "outputs": [
        {
          "output_type": "execute_result",
          "data": {
            "text/plain": [
              "(112, 798)"
            ]
          },
          "metadata": {},
          "execution_count": 14
        }
      ]
    },
    {
      "cell_type": "code",
      "metadata": {
        "id": "k_DxecT7pT9n"
      },
      "source": [
        "x = dataset.iloc[:, :-1].values\n",
        "y = dataset.iloc[:, 1].values"
      ],
      "execution_count": 15,
      "outputs": []
    },
    {
      "cell_type": "code",
      "metadata": {
        "id": "-z1WCMVxpj7C"
      },
      "source": [
        "X_train, X_test, Y_train, Y_test = train_test_split(x, y, test_size = 0.2, random_state = 0)"
      ],
      "execution_count": 16,
      "outputs": []
    },
    {
      "cell_type": "code",
      "metadata": {
        "id": "BajiCAAxqDfw",
        "colab": {
          "base_uri": "https://localhost:8080/"
        },
        "outputId": "e5f6edee-bbbd-46ba-aaa3-02571fd34d44"
      },
      "source": [
        "X_train"
      ],
      "execution_count": 17,
      "outputs": [
        {
          "output_type": "execute_result",
          "data": {
            "text/plain": [
              "array([['_.ua=function(a',\n",
              "        'b){if(_.ta)return a[_.ta]|=b;if(void 0!==a.Pb)return a.Pb|=b;Object.defineProperties(a',\n",
              "        '{Pb:{value:b', ..., nan, nan, nan],\n",
              "       ['})(this.gbar_);', nan, nan, ..., nan, nan, nan],\n",
              "       ['fb(\"Array.prototype.entries\"',\n",
              "        'function(a){return a?a:function(){return qb(this', 'function(b',\n",
              "        ..., nan, nan, nan],\n",
              "       ...,\n",
              "       ['// Google Inc.', nan, nan, ..., nan, nan, nan],\n",
              "       ['_.od=RegExp(\"\\\\\\\\b(calc|cubic-bezier|fit-content|hsl|hsla|linear-gradient|matrix|minmax|radial-gradient|repeat|rgb|rgba|(rotate|scale|translate)(X|Y|Z|3d)?|steps|var)\\\\\\\\([-+*/0-9a-zA-Z.%#\\\\\\\\[\\\\\\\\]',\n",
              "        ' ]+\\\\\\\\)\"', 'g);var pd;pd={};_.qd=function(a', ..., nan, nan,\n",
              "        nan],\n",
              "       ['_.k.Ca=function(){qc=!0;try{return JSON.stringify(this.toJSON()',\n",
              "        'Xa)}finally{qc=!1}};_.k.bc=function(){return _.za(this.va)};_.k.Ue=Ma;_.k.toString=function(){return this.va.toString()};_.Ac=Symbol();_.Bc=Symbol();_.Cc=Symbol();_.Dc=Symbol();var Ec=function(a){_.G.call(this',\n",
              "        'a)};_.v(Ec', ..., nan, nan, nan]], dtype=object)"
            ]
          },
          "metadata": {},
          "execution_count": 17
        }
      ]
    }
  ]
}