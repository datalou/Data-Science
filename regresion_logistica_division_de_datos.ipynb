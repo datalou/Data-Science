{
  "nbformat": 4,
  "nbformat_minor": 0,
  "metadata": {
    "colab": {
      "provenance": [],
      "toc_visible": true,
      "include_colab_link": true
    },
    "kernelspec": {
      "name": "python3",
      "display_name": "Python 3"
    }
  },
  "cells": [
    {
      "cell_type": "markdown",
      "metadata": {
        "id": "view-in-github",
        "colab_type": "text"
      },
      "source": [
        "<a href=\"https://colab.research.google.com/github/datalou/Data-Science/blob/master/regresion_logistica_division_de_datos.ipynb\" target=\"_parent\"><img src=\"https://colab.research.google.com/assets/colab-badge.svg\" alt=\"Open In Colab\"/></a>"
      ]
    },
    {
      "cell_type": "code",
      "metadata": {
        "id": "SGzPgsivyd1u"
      },
      "source": [
        "import pandas as pd \n",
        "from sklearn import metrics\n",
        "from sklearn.model_selection import train_test_split\n",
        "from sklearn.linear_model import LogisticRegression\n",
        "import matplotlib.pyplot as plt\n",
        "import seaborn as sns\n",
        "%matplotlib inline"
      ],
      "execution_count": null,
      "outputs": []
    },
    {
      "cell_type": "markdown",
      "source": [
        "La Regresion logistica usamos para clasificar, si nuestro dato de salida tiene un valor cualitativo, entregándonos como resultado un 0 o 1 (sí o no)\n"
      ],
      "metadata": {
        "id": "okj4egKG2gqn"
      }
    },
    {
      "cell_type": "code",
      "metadata": {
        "id": "tKfkJvxJ1aNP",
        "colab": {
          "base_uri": "https://localhost:8080/",
          "height": 270
        },
        "outputId": "6a187c7a-581b-4070-b989-44074abc644a"
      },
      "source": [
        "diabetes = pd.read_csv('/content/diabetes_e5df1a05-5634-44ce-91df-7bc6143aa93e.csv')\n",
        "diabetes.head(5)"
      ],
      "execution_count": null,
      "outputs": [
        {
          "output_type": "execute_result",
          "data": {
            "text/plain": [
              "   Pregnancies  Glucose  BloodPressure  SkinThickness  Insulin   BMI  \\\n",
              "0            6      148             72             35        0  33.6   \n",
              "1            1       85             66             29        0  26.6   \n",
              "2            8      183             64              0        0  23.3   \n",
              "3            1       89             66             23       94  28.1   \n",
              "4            0      137             40             35      168  43.1   \n",
              "\n",
              "   DiabetesPedigreeFunction  Age  Outcome  \n",
              "0                     0.627   50        1  \n",
              "1                     0.351   31        0  \n",
              "2                     0.672   32        1  \n",
              "3                     0.167   21        0  \n",
              "4                     2.288   33        1  "
            ],
            "text/html": [
              "\n",
              "  <div id=\"df-7f5d1f46-6b6f-4959-95fd-e0959d7895e6\">\n",
              "    <div class=\"colab-df-container\">\n",
              "      <div>\n",
              "<style scoped>\n",
              "    .dataframe tbody tr th:only-of-type {\n",
              "        vertical-align: middle;\n",
              "    }\n",
              "\n",
              "    .dataframe tbody tr th {\n",
              "        vertical-align: top;\n",
              "    }\n",
              "\n",
              "    .dataframe thead th {\n",
              "        text-align: right;\n",
              "    }\n",
              "</style>\n",
              "<table border=\"1\" class=\"dataframe\">\n",
              "  <thead>\n",
              "    <tr style=\"text-align: right;\">\n",
              "      <th></th>\n",
              "      <th>Pregnancies</th>\n",
              "      <th>Glucose</th>\n",
              "      <th>BloodPressure</th>\n",
              "      <th>SkinThickness</th>\n",
              "      <th>Insulin</th>\n",
              "      <th>BMI</th>\n",
              "      <th>DiabetesPedigreeFunction</th>\n",
              "      <th>Age</th>\n",
              "      <th>Outcome</th>\n",
              "    </tr>\n",
              "  </thead>\n",
              "  <tbody>\n",
              "    <tr>\n",
              "      <th>0</th>\n",
              "      <td>6</td>\n",
              "      <td>148</td>\n",
              "      <td>72</td>\n",
              "      <td>35</td>\n",
              "      <td>0</td>\n",
              "      <td>33.6</td>\n",
              "      <td>0.627</td>\n",
              "      <td>50</td>\n",
              "      <td>1</td>\n",
              "    </tr>\n",
              "    <tr>\n",
              "      <th>1</th>\n",
              "      <td>1</td>\n",
              "      <td>85</td>\n",
              "      <td>66</td>\n",
              "      <td>29</td>\n",
              "      <td>0</td>\n",
              "      <td>26.6</td>\n",
              "      <td>0.351</td>\n",
              "      <td>31</td>\n",
              "      <td>0</td>\n",
              "    </tr>\n",
              "    <tr>\n",
              "      <th>2</th>\n",
              "      <td>8</td>\n",
              "      <td>183</td>\n",
              "      <td>64</td>\n",
              "      <td>0</td>\n",
              "      <td>0</td>\n",
              "      <td>23.3</td>\n",
              "      <td>0.672</td>\n",
              "      <td>32</td>\n",
              "      <td>1</td>\n",
              "    </tr>\n",
              "    <tr>\n",
              "      <th>3</th>\n",
              "      <td>1</td>\n",
              "      <td>89</td>\n",
              "      <td>66</td>\n",
              "      <td>23</td>\n",
              "      <td>94</td>\n",
              "      <td>28.1</td>\n",
              "      <td>0.167</td>\n",
              "      <td>21</td>\n",
              "      <td>0</td>\n",
              "    </tr>\n",
              "    <tr>\n",
              "      <th>4</th>\n",
              "      <td>0</td>\n",
              "      <td>137</td>\n",
              "      <td>40</td>\n",
              "      <td>35</td>\n",
              "      <td>168</td>\n",
              "      <td>43.1</td>\n",
              "      <td>2.288</td>\n",
              "      <td>33</td>\n",
              "      <td>1</td>\n",
              "    </tr>\n",
              "  </tbody>\n",
              "</table>\n",
              "</div>\n",
              "      <button class=\"colab-df-convert\" onclick=\"convertToInteractive('df-7f5d1f46-6b6f-4959-95fd-e0959d7895e6')\"\n",
              "              title=\"Convert this dataframe to an interactive table.\"\n",
              "              style=\"display:none;\">\n",
              "        \n",
              "  <svg xmlns=\"http://www.w3.org/2000/svg\" height=\"24px\"viewBox=\"0 0 24 24\"\n",
              "       width=\"24px\">\n",
              "    <path d=\"M0 0h24v24H0V0z\" fill=\"none\"/>\n",
              "    <path d=\"M18.56 5.44l.94 2.06.94-2.06 2.06-.94-2.06-.94-.94-2.06-.94 2.06-2.06.94zm-11 1L8.5 8.5l.94-2.06 2.06-.94-2.06-.94L8.5 2.5l-.94 2.06-2.06.94zm10 10l.94 2.06.94-2.06 2.06-.94-2.06-.94-.94-2.06-.94 2.06-2.06.94z\"/><path d=\"M17.41 7.96l-1.37-1.37c-.4-.4-.92-.59-1.43-.59-.52 0-1.04.2-1.43.59L10.3 9.45l-7.72 7.72c-.78.78-.78 2.05 0 2.83L4 21.41c.39.39.9.59 1.41.59.51 0 1.02-.2 1.41-.59l7.78-7.78 2.81-2.81c.8-.78.8-2.07 0-2.86zM5.41 20L4 18.59l7.72-7.72 1.47 1.35L5.41 20z\"/>\n",
              "  </svg>\n",
              "      </button>\n",
              "      \n",
              "  <style>\n",
              "    .colab-df-container {\n",
              "      display:flex;\n",
              "      flex-wrap:wrap;\n",
              "      gap: 12px;\n",
              "    }\n",
              "\n",
              "    .colab-df-convert {\n",
              "      background-color: #E8F0FE;\n",
              "      border: none;\n",
              "      border-radius: 50%;\n",
              "      cursor: pointer;\n",
              "      display: none;\n",
              "      fill: #1967D2;\n",
              "      height: 32px;\n",
              "      padding: 0 0 0 0;\n",
              "      width: 32px;\n",
              "    }\n",
              "\n",
              "    .colab-df-convert:hover {\n",
              "      background-color: #E2EBFA;\n",
              "      box-shadow: 0px 1px 2px rgba(60, 64, 67, 0.3), 0px 1px 3px 1px rgba(60, 64, 67, 0.15);\n",
              "      fill: #174EA6;\n",
              "    }\n",
              "\n",
              "    [theme=dark] .colab-df-convert {\n",
              "      background-color: #3B4455;\n",
              "      fill: #D2E3FC;\n",
              "    }\n",
              "\n",
              "    [theme=dark] .colab-df-convert:hover {\n",
              "      background-color: #434B5C;\n",
              "      box-shadow: 0px 1px 3px 1px rgba(0, 0, 0, 0.15);\n",
              "      filter: drop-shadow(0px 1px 2px rgba(0, 0, 0, 0.3));\n",
              "      fill: #FFFFFF;\n",
              "    }\n",
              "  </style>\n",
              "\n",
              "      <script>\n",
              "        const buttonEl =\n",
              "          document.querySelector('#df-7f5d1f46-6b6f-4959-95fd-e0959d7895e6 button.colab-df-convert');\n",
              "        buttonEl.style.display =\n",
              "          google.colab.kernel.accessAllowed ? 'block' : 'none';\n",
              "\n",
              "        async function convertToInteractive(key) {\n",
              "          const element = document.querySelector('#df-7f5d1f46-6b6f-4959-95fd-e0959d7895e6');\n",
              "          const dataTable =\n",
              "            await google.colab.kernel.invokeFunction('convertToInteractive',\n",
              "                                                     [key], {});\n",
              "          if (!dataTable) return;\n",
              "\n",
              "          const docLinkHtml = 'Like what you see? Visit the ' +\n",
              "            '<a target=\"_blank\" href=https://colab.research.google.com/notebooks/data_table.ipynb>data table notebook</a>'\n",
              "            + ' to learn more about interactive tables.';\n",
              "          element.innerHTML = '';\n",
              "          dataTable['output_type'] = 'display_data';\n",
              "          await google.colab.output.renderOutput(dataTable, element);\n",
              "          const docLink = document.createElement('div');\n",
              "          docLink.innerHTML = docLinkHtml;\n",
              "          element.appendChild(docLink);\n",
              "        }\n",
              "      </script>\n",
              "    </div>\n",
              "  </div>\n",
              "  "
            ]
          },
          "metadata": {},
          "execution_count": 3
        }
      ]
    },
    {
      "cell_type": "code",
      "metadata": {
        "id": "eBmhaXw31lrT",
        "colab": {
          "base_uri": "https://localhost:8080/"
        },
        "outputId": "2c5ee5c9-4c61-4073-cbf8-2b9506afe7ae"
      },
      "source": [
        "diabetes.shape"
      ],
      "execution_count": null,
      "outputs": [
        {
          "output_type": "execute_result",
          "data": {
            "text/plain": [
              "(768, 9)"
            ]
          },
          "metadata": {},
          "execution_count": 4
        }
      ]
    },
    {
      "cell_type": "code",
      "metadata": {
        "id": "NA6--cak1ph0"
      },
      "source": [
        "feature_cols = ['Pregnancies', 'Insulin', 'BMI', 'Age', 'Glucose', 'BloodPressure', 'DiabetesPedigreeFunction']\n",
        "x = diabetes[feature_cols]\n",
        "y = diabetes.Outcome"
      ],
      "execution_count": null,
      "outputs": []
    },
    {
      "cell_type": "code",
      "metadata": {
        "id": "BiYxPzXx2ISA"
      },
      "source": [
        "X_train, X_test, y_train, y_test = train_test_split(x, y, test_size = 0.25, random_state = 0)"
      ],
      "execution_count": null,
      "outputs": []
    },
    {
      "cell_type": "code",
      "metadata": {
        "id": "xEajbyy32vZG"
      },
      "source": [
        "logreg = LogisticRegression(max_iter=len(X_train))\n",
        "logreg.fit(X_train, y_train)\n",
        "y_pred = logreg.predict(X_test)"
      ],
      "execution_count": null,
      "outputs": []
    },
    {
      "cell_type": "code",
      "metadata": {
        "id": "6DtLEIkk2-Pn",
        "colab": {
          "base_uri": "https://localhost:8080/"
        },
        "outputId": "df0e0e96-2965-4368-e3c1-05d8ada0466a"
      },
      "source": [
        "y_pred"
      ],
      "execution_count": null,
      "outputs": [
        {
          "output_type": "execute_result",
          "data": {
            "text/plain": [
              "array([1, 0, 0, 1, 0, 0, 1, 1, 0, 0, 1, 1, 0, 0, 0, 0, 1, 0, 0, 0, 1, 0,\n",
              "       0, 0, 0, 0, 0, 1, 0, 0, 0, 0, 0, 0, 0, 1, 0, 0, 0, 1, 0, 0, 0, 1,\n",
              "       1, 0, 0, 0, 0, 0, 0, 0, 1, 0, 0, 0, 0, 1, 0, 0, 1, 0, 0, 1, 1, 1,\n",
              "       1, 0, 0, 0, 0, 0, 0, 1, 1, 0, 0, 1, 0, 0, 0, 0, 0, 0, 0, 0, 0, 0,\n",
              "       1, 0, 0, 0, 0, 0, 1, 0, 0, 1, 1, 0, 0, 0, 0, 0, 1, 0, 0, 0, 0, 1,\n",
              "       0, 0, 1, 0, 1, 1, 0, 1, 0, 1, 0, 0, 0, 0, 0, 0, 0, 0, 0, 0, 0, 0,\n",
              "       0, 1, 0, 0, 0, 0, 1, 0, 0, 1, 0, 0, 0, 0, 0, 0, 0, 0, 0, 1, 0, 0,\n",
              "       1, 0, 1, 0, 0, 1, 1, 1, 0, 0, 1, 0, 0, 0, 0, 0, 0, 0, 0, 0, 1, 0,\n",
              "       0, 0, 0, 0, 0, 1, 0, 1, 0, 0, 1, 0, 0, 0, 0, 0])"
            ]
          },
          "metadata": {},
          "execution_count": 8
        }
      ]
    },
    {
      "cell_type": "markdown",
      "source": [
        "Matriz de confusión\n",
        "Representación gráfica que nos permite ver el grado de acierto de nuestro modelo. El gráfico tiene cuatro divisiones: Verdaderos Positivos (VP), Falsos Positivos (FP), Falsos Negativos (FN) y Verdaderos Negativos (VN). Siendo los datos verdaderos los que nos interesa maximizar (valores de la diagonal).\n",
        "\n",
        "Graficado de la Matriz de Confusion:\n",
        "\n",
        "Los datos necesarios los obtenemos de nuestro modelo (con ayuda del módulo metrics):"
      ],
      "metadata": {
        "id": "lMh8Z5pt6hwE"
      }
    },
    {
      "cell_type": "code",
      "source": [
        "cnf_matrix = metrics.confusion_matrix(y_test,y_pred)"
      ],
      "metadata": {
        "id": "FgGHZkyg6eYu"
      },
      "execution_count": null,
      "outputs": []
    },
    {
      "cell_type": "markdown",
      "source": [
        "Definimos los ejes con sus respectivas etiquetas"
      ],
      "metadata": {
        "id": "RqdoZ26c6rem"
      }
    },
    {
      "cell_type": "code",
      "source": [
        "import numpy as np\n",
        "class_names = [0,1]\n",
        "fig,ax = plt.subplots() #obtenemos las variables figura y ejes del gráfico (nos permite cambiar los atributos propios de cada seccion)\n",
        "tick_marks = np.arange(len(class_names))  #definimos los valores que van a tener las líneas de guía\n",
        "plt.xticks(tick_marks, class_names)\n",
        "plt.yticks(tick_marks, class_names) #definimos los tick marks en el gráfico\n",
        "sns.heatmap(pd.DataFrame(cnf_matrix), annot = True, cmap=\"Blues_r\", fmt=\"g\")\n",
        "ax.xaxis.set_label_position(\"top\")\n",
        "plt.tight_layout()\n",
        "plt.title(\"Matriz de confusion\", y=1.1)\n",
        "plt.ylabel(\"Etiqueta Actual\")\n",
        "plt.xlabel(\"Etiqueta de prediccion\")"
      ],
      "metadata": {
        "colab": {
          "base_uri": "https://localhost:8080/",
          "height": 343
        },
        "id": "lx4kEOVK6oZY",
        "outputId": "ec86f29e-bd89-4bc6-af10-3ec6435381ae"
      },
      "execution_count": null,
      "outputs": [
        {
          "output_type": "execute_result",
          "data": {
            "text/plain": [
              "Text(0.5, 257.44, 'Etiqueta de prediccion')"
            ]
          },
          "metadata": {},
          "execution_count": 12
        },
        {
          "output_type": "display_data",
          "data": {
            "text/plain": [
              "<Figure size 432x288 with 2 Axes>"
            ],
            "image/png": "[encoded data removed]"
          },
          "metadata": {
            "needs_background": "light"
          }
        }
      ]
    },
    {
      "cell_type": "markdown",
      "source": [
        "Creamos la presentación del gráfico"
      ],
      "metadata": {
        "id": "PJAS_6mM6uRd"
      }
    },
    {
      "cell_type": "markdown",
      "source": [
        "sns.heatmap(pd.DataFrame(cnf_matrix), annot = True, cmap='Blues_r', fmt='g')\n",
        "ax.axis.set_label_position('top')\n",
        "plt.tight_layout()\n",
        "plt.title('Matriz de confusion', y=1.1)\n",
        "plt.y_label('Etiqueta Actual')\n",
        "plt.x_label('Etiqueta de Prediccion)"
      ],
      "metadata": {
        "id": "2i6Pm20e6wvp"
      }
    },
    {
      "cell_type": "markdown",
      "source": [
        "- seaborn nos permite crear un mapa de calor a partir de los valores entregados (la matriz de confusión en este caso), los parámetros que entregamos son: annot → permite colocar los valores sobre el gráfico, cmap → estilo del gráfico, fmt → formato de los valores\n",
        "- ax.xaxis,set_label_position() → nos permite definir donde colocar la etiqueta del eje x\n",
        "- plt.tight_layout() → crea un padding en torno al gráfico (lo enmarca)"
      ],
      "metadata": {
        "id": "pcOu5kh86zdV"
      }
    },
    {
      "cell_type": "markdown",
      "source": [
        "Otra forma de evaluar nuestro modelo es a través del método accuracy_score del módulo metrics:"
      ],
      "metadata": {
        "id": "A_N0hOp784n6"
      }
    },
    {
      "cell_type": "markdown",
      "source": [
        "metrics.accuracy_score(Y_test,y_pred)"
      ],
      "metadata": {
        "id": "xlcxekNB87ag"
      }
    },
    {
      "cell_type": "markdown",
      "source": [
        " En Wikipedia y otras fuentes la matriz de confusión viene con la siguiente convención para los axes"
      ],
      "metadata": {
        "id": "7sx9l5o3_k5y"
      }
    },
    {
      "cell_type": "markdown",
      "source": [
        "![matriz confusion.png](data:image/png;base64,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)"
      ],
      "metadata": {
        "id": "FEW3gzAm_Px4"
      }
    },
    {
      "cell_type": "markdown",
      "source": [
        "Sin embargo, en Scikit-Learn, por defecto, es esta:"
      ],
      "metadata": {
        "id": "TAfK3_8c_1ld"
      }
    },
    {
      "cell_type": "markdown",
      "source": [
        "![sckilearn matrizconfusion.png](data:image/png;base64,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)"
      ],
      "metadata": {
        "id": "-eLDgvzo_4Ol"
      }
    },
    {
      "cell_type": "markdown",
      "source": [
        "En la misma documentación lo menciona:\n",
        "\n",
        "Wikipedia entry for the Confusion matrix (Wikipedia and other references may use a different convention for axes).\n",
        "\n",
        "Por lo tanto, tendríamos que leer la matriz de confución de nuestro código así:"
      ],
      "metadata": {
        "id": "Rup1ujJG_9Ns"
      }
    },
    {
      "cell_type": "markdown",
      "source": [
        "![sckit.png](data:image/png;base64,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)"
      ],
      "metadata": {
        "id": "YljTs_r0AAwc"
      }
    },
    {
      "cell_type": "markdown",
      "source": [
        "Dicho esto, en realidad tenemos 117 verdaderos negativos y 36 verdaderos positivos."
      ],
      "metadata": {
        "id": "3nQRZsHvAJTR"
      }
    }
  ]
}